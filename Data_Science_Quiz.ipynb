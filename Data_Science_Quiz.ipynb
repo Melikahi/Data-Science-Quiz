{
  "nbformat": 4,
  "nbformat_minor": 0,
  "metadata": {
    "colab": {
      "provenance": []
    },
    "kernelspec": {
      "name": "python3",
      "display_name": "Python 3"
    },
    "language_info": {
      "name": "python"
    }
  },
  "cells": [
    {
      "cell_type": "code",
      "execution_count": null,
      "metadata": {
        "id": "2zy4x-eXGyQ0"
      },
      "outputs": [],
      "source": []
    },
    {
      "cell_type": "markdown",
      "source": [
        " Questions1. Setup (5 minutes)\n",
        "Import the necessary libraries.\n",
        "Create a DataFrame using the given data. Display the DataFrame.\n",
        "\n",
        "data = {'Name': ['Alice', 'Bob', 'Charlie', 'David', 'Eva','Age': [24, 27, 22, 32, 29], 'City': ['New York', 'Los Angeles', 'Chicago', 'Houston', 'Phoenix']}"
      ],
      "metadata": {
        "id": "gfKv-vyYHAqN"
      }
    },
    {
      "cell_type": "code",
      "source": [
        "#import all the libraries\n",
        "import pandas as pd\n",
        "import numpy as np\n",
        "import matplotlib.pyplot as plt\n",
        "import seaborn as sns\n",
        "from scipy import stats"
      ],
      "metadata": {
        "id": "cj_cbcduHLni"
      },
      "execution_count": 35,
      "outputs": []
    },
    {
      "cell_type": "code",
      "source": [
        "# Sample data\n",
        "data = {'Name': ['Alice', 'Bob', 'Charlie', 'David', 'Eva'],'Age': [24, 27, 22, 32, 29], 'City': ['New York', 'Los Angeles', 'Chicago', 'Houston', 'Phoenix']}\n",
        "\n",
        "df = pd.DataFrame(data)\n",
        "print(df)\n"
      ],
      "metadata": {
        "colab": {
          "base_uri": "https://localhost:8080/"
        },
        "id": "bcP5ZoKiISNz",
        "outputId": "750c8672-7b41-407e-a944-d4a7963889a4"
      },
      "execution_count": 36,
      "outputs": [
        {
          "output_type": "stream",
          "name": "stdout",
          "text": [
            "      Name  Age         City\n",
            "0    Alice   24     New York\n",
            "1      Bob   27  Los Angeles\n",
            "2  Charlie   22      Chicago\n",
            "3    David   32      Houston\n",
            "4      Eva   29      Phoenix\n"
          ]
        }
      ]
    },
    {
      "cell_type": "markdown",
      "source": [
        "2. Pandas DataFrame Operations (15 minutes)\n",
        "Tasks:\n",
        "*\n",
        "2.1 Select the 'Name' and 'City' columns and display them.\n",
        "\n",
        "2.2 Filter the DataFrame to only include rows where 'Age' is greater than 25 and display the result.\n",
        "\n",
        "2.3 Sort the DataFrame by 'Age' in ascending order and display the sorted DataFrame.\n",
        "\n",
        "2.4 Add a new column 'Age_Group' that categorizes ages into 'Young' (less than 30) and 'Adult' (30 and above), and display the updated DataFrame."
      ],
      "metadata": {
        "id": "8nUtI2g9OgxD"
      }
    },
    {
      "cell_type": "code",
      "source": [
        "df = pd.DataFrame(data)\n",
        "\n",
        "columns = df[['Name', 'City']]\n",
        "\n",
        "print(columns)"
      ],
      "metadata": {
        "colab": {
          "base_uri": "https://localhost:8080/"
        },
        "id": "Tdhl97aWO8ks",
        "outputId": "fa06e0af-cf45-4675-da45-b07265dff9da"
      },
      "execution_count": 37,
      "outputs": [
        {
          "output_type": "stream",
          "name": "stdout",
          "text": [
            "      Name         City\n",
            "0    Alice     New York\n",
            "1      Bob  Los Angeles\n",
            "2  Charlie      Chicago\n",
            "3    David      Houston\n",
            "4      Eva      Phoenix\n"
          ]
        }
      ]
    },
    {
      "cell_type": "code",
      "source": [
        "df = pd.DataFrame(data)\n",
        "\n",
        "\n",
        "filtered_df = df.loc[df['Age'] > 25]\n",
        "\n",
        "print (filtered_df)\n"
      ],
      "metadata": {
        "colab": {
          "base_uri": "https://localhost:8080/"
        },
        "id": "txOTN_lWPpaJ",
        "outputId": "5b86e551-d24b-4d00-9c87-e4c1d3aac500"
      },
      "execution_count": 38,
      "outputs": [
        {
          "output_type": "stream",
          "name": "stdout",
          "text": [
            "    Name  Age         City\n",
            "1    Bob   27  Los Angeles\n",
            "3  David   32      Houston\n",
            "4    Eva   29      Phoenix\n"
          ]
        }
      ]
    },
    {
      "cell_type": "code",
      "source": [
        "df = pd.DataFrame(data)\n",
        "\n",
        "df.sort_values(by='Age', ascending=True, inplace=True)\n",
        "print(df)"
      ],
      "metadata": {
        "colab": {
          "base_uri": "https://localhost:8080/"
        },
        "id": "ONbtzS7nRyvc",
        "outputId": "d29af8ed-8add-4683-f4a9-d02fa4c365de"
      },
      "execution_count": 13,
      "outputs": [
        {
          "output_type": "stream",
          "name": "stdout",
          "text": [
            "      Name  Age         City\n",
            "2  Charlie   22      Chicago\n",
            "0    Alice   24     New York\n",
            "1      Bob   27  Los Angeles\n",
            "4      Eva   29      Phoenix\n",
            "3    David   32      Houston\n"
          ]
        }
      ]
    },
    {
      "cell_type": "code",
      "source": [
        "df = pd.DataFrame(data)\n",
        "\n",
        "df['Age_Group'] = df['Age'].apply(lambda x: 'Young' if x < 30 else 'Adult')\n",
        "print(df)"
      ],
      "metadata": {
        "colab": {
          "base_uri": "https://localhost:8080/"
        },
        "id": "qxs6-_IaTm-Y",
        "outputId": "17f548d9-1834-4041-9331-d60cbc7a6483"
      },
      "execution_count": 14,
      "outputs": [
        {
          "output_type": "stream",
          "name": "stdout",
          "text": [
            "      Name  Age         City Age_Group\n",
            "0    Alice   24     New York     Young\n",
            "1      Bob   27  Los Angeles     Young\n",
            "2  Charlie   22      Chicago     Young\n",
            "3    David   32      Houston     Adult\n",
            "4      Eva   29      Phoenix     Young\n"
          ]
        }
      ]
    },
    {
      "cell_type": "markdown",
      "source": [
        "3. Data Structures: Lists and Dictionaries (10 minutes)\n",
        "Tasks:\n",
        "\n",
        "3.1 Create a list of new ages: [25, 28, 23, 33, 30]. Update the 'Age' column in the DataFrame with these new ages and display the updated DataFrame.\n",
        "\n",
        "3.2 Create a dictionary mapping names to new cities: {'Alice': 'San Francisco', 'Bob': 'Seattle', 'Charlie': 'Austin', 'David': 'Dallas', 'Eva': 'Miami'}.\n",
        "\n",
        "Update the 'City' column using this dictionary and display the updated DataFrame."
      ],
      "metadata": {
        "id": "EocIy-hAUOAE"
      }
    },
    {
      "cell_type": "code",
      "source": [
        "city_mapping = {'Alice': 'San Francisco', 'Bob': 'Seattle', 'Charlie': 'Austin', 'David': 'Dallas', 'Eva': 'Miami'}\n",
        "\n",
        "df['City'] = df['Name'].map(city_mapping)\n",
        "\n",
        "print(df)"
      ],
      "metadata": {
        "colab": {
          "base_uri": "https://localhost:8080/"
        },
        "id": "pTUtSr2UaSHP",
        "outputId": "0e05c0f9-88e6-44b0-b9e6-6788793037e9"
      },
      "execution_count": 25,
      "outputs": [
        {
          "output_type": "stream",
          "name": "stdout",
          "text": [
            "      Name           City\n",
            "0    Alice  San Francisco\n",
            "1      Bob        Seattle\n",
            "2  Charlie         Austin\n",
            "3    David         Dallas\n",
            "4      Eva          Miami\n"
          ]
        }
      ]
    },
    {
      "cell_type": "code",
      "source": [
        "\n",
        "data = {'Name': ['Tom', 'Nick', 'John', 'Doe'], 'Age': [20, 21, 19, 18]}\n",
        "df = pd.DataFrame(data)\n",
        "\n",
        "for index, row in df.iterrows():\n",
        "    print(f\"Name: {row['Name']}, Age: {row['Age']}\")\n",
        "\n",
        "def categorize_age(age):\n",
        "    if age < 30:\n",
        "        return 'Youth'\n",
        "    else:\n",
        "        return 'Adult'\n",
        "\n",
        "df['Category'] = df['Age'].apply(categorize_age)\n",
        "\n",
        "print(df)\n"
      ],
      "metadata": {
        "colab": {
          "base_uri": "https://localhost:8080/"
        },
        "id": "yeZ1YDRIUNmO",
        "outputId": "2b5e822b-b84f-4b20-fff2-b8abeb9f20c8"
      },
      "execution_count": 29,
      "outputs": [
        {
          "output_type": "stream",
          "name": "stdout",
          "text": [
            "Name: Tom, Age: 20\n",
            "Name: Nick, Age: 21\n",
            "Name: John, Age: 19\n",
            "Name: Doe, Age: 18\n",
            "   Name  Age Category\n",
            "0   Tom   20    Youth\n",
            "1  Nick   21    Youth\n",
            "2  John   19    Youth\n",
            "3   Doe   18    Youth\n"
          ]
        }
      ]
    },
    {
      "cell_type": "code",
      "source": [
        "\n",
        "df = pd.DataFrame(data)\n",
        "\n",
        "   for index, row in df.iterrows():\n",
        "     print(f\"Name: {row['Name']}, Age: {row['Age']}\")\n",
        "\n",
        "def up_age(age):\n",
        "    if age < 30:\n",
        "        return 'Youth'\n",
        "    else:\n",
        "        return 'Adult'\n",
        "\n",
        "df['Category'] = df['Age'].apply(up_age)\n",
        "print(df)"
      ],
      "metadata": {
        "colab": {
          "base_uri": "https://localhost:8080/",
          "height": 108
        },
        "id": "xU2avsl-W-kE",
        "outputId": "bb459e4c-bf1d-4ec2-b456-7b4410d5f9cc"
      },
      "execution_count": 28,
      "outputs": [
        {
          "output_type": "error",
          "ename": "IndentationError",
          "evalue": "unexpected indent (<ipython-input-28-d5c5b50aab32>, line 3)",
          "traceback": [
            "\u001b[0;36m  File \u001b[0;32m\"<ipython-input-28-d5c5b50aab32>\"\u001b[0;36m, line \u001b[0;32m3\u001b[0m\n\u001b[0;31m    for index, row in df.iterrows():\u001b[0m\n\u001b[0m    ^\u001b[0m\n\u001b[0;31mIndentationError\u001b[0m\u001b[0;31m:\u001b[0m unexpected indent\n"
          ]
        }
      ]
    }
  ]
}